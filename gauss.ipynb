{
 "cells": [
  {
   "cell_type": "markdown",
   "metadata": {},
   "source": [
    "В этом блокноте представлен код метода Гаусса с JIT компиляциейи и без него."
   ]
  },
  {
   "cell_type": "code",
   "execution_count": 5,
   "metadata": {},
   "outputs": [
    {
     "name": "stdout",
     "output_type": "stream",
     "text": [
      "[7.75, -0.125, -4.25]\n",
      "292 µs ± 8.01 µs per loop (mean ± std. dev. of 7 runs, 1000 loops each)\n",
      "14.9 µs ± 8.45 µs per loop (mean ± std. dev. of 7 runs, 1 loop each)\n"
     ]
    }
   ],
   "source": [
    "from numpy import array as arr\n",
    "from numba import njit\n",
    "\n",
    "AB = arr([\n",
    "    [1.5, 2.0, 1.5, 5.0],\n",
    "    [3.0, 2.0, 4.0, 6.0],\n",
    "    [1.0, 6.0, 0.0, 7.0]\n",
    "])\n",
    "\n",
    "\n",
    "@njit\n",
    "def v_gauss_jit(ab: arr) -> arr:\n",
    "    ab = ab.copy()\n",
    "    n = len(ab)\n",
    "\n",
    "    for k in range(n):\n",
    "        for i in range(k + 1, n):\n",
    "            ab[k] /= ab[k][k]\n",
    "            ab[i] -= ab[k] * (ab[i][k])\n",
    "    ab[n - 1] /= ab[n - 1][n - 1]\n",
    "    pass\n",
    "\n",
    "    for i in range(n):\n",
    "        for j in range(i + 1, n):\n",
    "            ab[i] -= ab[j] * ab[i][j]\n",
    "    pass\n",
    "\n",
    "    x = []\n",
    "    for i in range(n):\n",
    "        x.append(ab[i][n])\n",
    "\n",
    "    return x\n",
    "\n",
    "\n",
    "def v_gauss_no_jit(ab: arr) -> arr:\n",
    "    ab = ab.copy()\n",
    "    n = len(ab)\n",
    "\n",
    "    for k in range(n):\n",
    "        for i in range(k + 1, n):\n",
    "            ab[k] /= ab[k][k]\n",
    "            ab[i] -= ab[k] * (ab[i][k])\n",
    "    ab[n - 1] /= ab[n - 1][n - 1]\n",
    "    pass\n",
    "\n",
    "    for i in range(n):\n",
    "        for j in range(i + 1, n):\n",
    "            ab[i] -= ab[j] * ab[i][j]\n",
    "    pass\n",
    "\n",
    "    x = []\n",
    "    for i in range(n):\n",
    "        x.append(ab[i][n])\n",
    "\n",
    "    return x\n",
    "\n",
    "\n",
    "print(v_gauss_jit(AB))\n",
    "%timeit v_gauss_no_jit(AB)\n",
    "%timeit v_gauss_jit(AB)"
   ]
  },
  {
   "cell_type": "markdown",
   "metadata": {},
   "source": [
    "Ускорение очевидно!"
   ]
  }
 ],
 "metadata": {
  "kernelspec": {
   "display_name": "Python 3",
   "language": "python",
   "name": "python3"
  },
  "language_info": {
   "codemirror_mode": {
    "name": "ipython",
    "version": 3
   },
   "file_extension": ".py",
   "mimetype": "text/x-python",
   "name": "python",
   "nbconvert_exporter": "python",
   "pygments_lexer": "ipython3",
   "version": "3.8.1"
  }
 },
 "nbformat": 4,
 "nbformat_minor": 4
}
